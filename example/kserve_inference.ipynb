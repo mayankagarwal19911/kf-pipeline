{
 "cells": [
  {
   "cell_type": "code",
   "execution_count": 23,
   "id": "4d0afb68-ac91-4fa2-b834-5b59de4e3d0b",
   "metadata": {},
   "outputs": [
    {
     "name": "stdout",
     "output_type": "stream",
     "text": [
      "ERROR: unknown command \"matplotlib\"\n"
     ]
    }
   ],
   "source": [
    "!pip matplotlib"
   ]
  },
  {
   "cell_type": "code",
   "execution_count": 24,
   "id": "d73c74d6-df82-4c84-94c8-e45f46578d6f",
   "metadata": {},
   "outputs": [],
   "source": [
    "import matplotlib.pyplot as plt\n",
    "\n",
    "\n",
    "def display_image(x_test, image_index):\n",
    "    plt.imshow(x_test[image_index].reshape(28, 28), cmap=\"binary\")\n",
    "\n",
    "\n",
    "def predict_number(model, x_test, image_index):\n",
    "    pred = model.predict(x_test[image_index : image_index + 1])\n",
    "    print(pred.argmax())"
   ]
  },
  {
   "cell_type": "code",
   "execution_count": 25,
   "id": "6df5b507-c54b-4a05-a936-558553ff8684",
   "metadata": {},
   "outputs": [
    {
     "data": {
      "image/png": "[encoded data removed]",
      "text/plain": [
       "<Figure size 640x480 with 1 Axes>"
      ]
     },
     "metadata": {},
     "output_type": "display_data"
    }
   ],
   "source": [
    "import numpy as np\n",
    "\n",
    "with np.load(\"./mnist.npz\", allow_pickle=True) as f:\n",
    "    x_test = (\n",
    "        f[\"x_test\"] / 255.0\n",
    "    )  # Transform the data in the same way as before!\n",
    "\n",
    "image_index = 1005\n",
    "\n",
    "display_image(x_test, image_index)"
   ]
  },
  {
   "cell_type": "code",
   "execution_count": 26,
   "id": "da331cd8-51f0-4bc5-9fcd-09f7f6434f36",
   "metadata": {},
   "outputs": [],
   "source": [
    "import codecs, json\n",
    "\n",
    "tf_serving_req = {\"instances\": x_test[image_index : image_index + 1].tolist()}\n",
    "\n",
    "with open(\"input.json\", \"w\") as json_file:\n",
    "    json.dump(tf_serving_req, json_file)"
   ]
  },
  {
   "cell_type": "code",
   "execution_count": null,
   "id": "b0dd9981-864a-4335-85de-9b826d003dad",
   "metadata": {},
   "outputs": [],
   "source": []
  },
  {
   "cell_type": "code",
   "execution_count": null,
   "id": "15244202-6fba-4a8e-a96c-014240943d70",
   "metadata": {},
   "outputs": [],
   "source": []
  }
 ],
 "metadata": {
  "kernelspec": {
   "display_name": "Python 3 (ipykernel)",
   "language": "python",
   "name": "python3"
  },
  "language_info": {
   "codemirror_mode": {
    "name": "ipython",
    "version": 3
   },
   "file_extension": ".py",
   "mimetype": "text/x-python",
   "name": "python",
   "nbconvert_exporter": "python",
   "pygments_lexer": "ipython3",
   "version": "3.11.5"
  }
 },
 "nbformat": 4,
 "nbformat_minor": 5
}
